{
  "cells": [
    {
      "cell_type": "markdown",
      "metadata": {
        "id": "view-in-github",
        "colab_type": "text"
      },
      "source": [
        "<a href=\"https://colab.research.google.com/github/aarush-umap/asl-alphabet-classification/blob/master/evaluate_tflite.ipynb\" target=\"_parent\"><img src=\"https://colab.research.google.com/assets/colab-badge.svg\" alt=\"Open In Colab\"/></a>"
      ]
    },
    {
      "cell_type": "markdown",
      "source": [
        "#Evaluate tflite model\n",
        "This notebook serves as a pipeline to load and test a tflite model.\n",
        "\n",
        "Must be tested on a lighter architecture (e.g. raspberry pi)"
      ],
      "metadata": {
        "id": "wB4bhB6-8c_V"
      }
    },
    {
      "cell_type": "markdown",
      "source": [
        "##Setup packages"
      ],
      "metadata": {
        "id": "_m6PGaCG8Yx7"
      }
    },
    {
      "cell_type": "code",
      "source": [
        "!pip install tflite-runtime"
      ],
      "metadata": {
        "id": "n-vQBViXG3E-",
        "colab": {
          "base_uri": "https://localhost:8080/"
        },
        "outputId": "e1719622-192a-491f-dcb4-5b5554438d2b"
      },
      "execution_count": 1,
      "outputs": [
        {
          "output_type": "stream",
          "name": "stdout",
          "text": [
            "Collecting tflite-runtime\n",
            "  Downloading tflite_runtime-2.14.0-cp310-cp310-manylinux2014_x86_64.whl (2.4 MB)\n",
            "\u001b[2K     \u001b[90m━━━━━━━━━━━━━━━━━━━━━━━━━━━━━━━━━━━━━━━━\u001b[0m \u001b[32m2.4/2.4 MB\u001b[0m \u001b[31m22.2 MB/s\u001b[0m eta \u001b[36m0:00:00\u001b[0m\n",
            "\u001b[?25hRequirement already satisfied: numpy>=1.23.2 in /usr/local/lib/python3.10/dist-packages (from tflite-runtime) (1.23.5)\n",
            "Installing collected packages: tflite-runtime\n",
            "Successfully installed tflite-runtime-2.14.0\n"
          ]
        }
      ]
    },
    {
      "cell_type": "code",
      "execution_count": 3,
      "metadata": {
        "id": "i9zdLRneEdTz"
      },
      "outputs": [],
      "source": [
        "import tflite_runtime as tflite\n",
        "import os\n",
        "import sys\n",
        "import cv2\n",
        "import numpy as np"
      ]
    },
    {
      "cell_type": "markdown",
      "source": [
        "##Connect to Google Drive"
      ],
      "metadata": {
        "id": "o14IvKug8zcA"
      }
    },
    {
      "cell_type": "code",
      "source": [
        "from google.colab import drive\n",
        "drive.mount('/content/drive')"
      ],
      "metadata": {
        "colab": {
          "base_uri": "https://localhost:8080/"
        },
        "id": "7188Cb6G82wr",
        "outputId": "3bd142ff-edaa-4b5d-f3c2-b9cab9c9279f"
      },
      "execution_count": 4,
      "outputs": [
        {
          "output_type": "stream",
          "name": "stdout",
          "text": [
            "Mounted at /content/drive\n"
          ]
        }
      ]
    },
    {
      "cell_type": "code",
      "source": [
        "GOOGLE_DRIVE_PATH_AFTER_MYDRIVE = 'asl-alphabet'\n",
        "GOOGLE_DRIVE_PATH = os.path.join('drive', 'My Drive', GOOGLE_DRIVE_PATH_AFTER_MYDRIVE)\n",
        "print(os.listdir(GOOGLE_DRIVE_PATH))\n",
        "sys.path.append(GOOGLE_DRIVE_PATH)\n",
        "TEST_DIR = os.path.join(GOOGLE_DRIVE_PATH, 'asl_alphabet_test', 'asl_alphabet_test')"
      ],
      "metadata": {
        "colab": {
          "base_uri": "https://localhost:8080/"
        },
        "id": "aP4a8yig9Ikx",
        "outputId": "f2421092-fdf8-47d8-c380-d37dcc78aa7e"
      },
      "execution_count": 11,
      "outputs": [
        {
          "output_type": "stream",
          "name": "stdout",
          "text": [
            "['resnet.py', '__pycache__', 'best_weights', 'model.tflite', 'best_weights_no_LR', 'classification_google.ipynb', 'evaluate_tflite.ipynb', 'asl_alphabet_test']\n"
          ]
        }
      ]
    },
    {
      "cell_type": "markdown",
      "source": [
        "##Setup variables and methods"
      ],
      "metadata": {
        "id": "1jhcOCxG94km"
      }
    },
    {
      "cell_type": "code",
      "source": [
        "img_height = 200\n",
        "img_width = 200\n",
        "classes = ['A', 'B', 'C', 'D', 'E', 'F', 'G', 'H', 'I', 'J', 'K', 'L', 'M', 'N', 'O', 'P', 'Q', 'R', 'S', 'T', 'U', 'V', 'W', 'X', 'Y', 'Z', 'del', 'nothing', 'space']"
      ],
      "metadata": {
        "id": "6FVSV9Fe9YG_"
      },
      "execution_count": 12,
      "outputs": []
    },
    {
      "cell_type": "code",
      "source": [
        "def predict_letter(model, img):\n",
        "\n",
        "  img_array = np.expand_dims(img, 0)\n",
        "  prediction = model(img_array)\n",
        "  predicted_class = classes[np.argmax(prediction)]"
      ],
      "metadata": {
        "id": "KZp0xtN4_rp5"
      },
      "execution_count": null,
      "outputs": []
    },
    {
      "cell_type": "code",
      "source": [
        "def load_image(letter):\n",
        "  path = TEST_DIR + f\"/{letter}_test.jpg\"\n",
        "  img = cv2.imread(path)\n",
        "  img = cv2.resize(img, (img_height, img_width))\n",
        "  print(f'loading {letter}_test.jpg of type: {img.dtype}')\n",
        "  return img\n"
      ],
      "metadata": {
        "id": "gY7r7igfF1j7"
      },
      "execution_count": 15,
      "outputs": []
    },
    {
      "cell_type": "code",
      "source": [
        "letter = 'A'\n",
        "path_to_model = os.path.join(model.tflite)\n",
        "net50lite = load_lite(path_to_model)\n",
        "image = load_image(letter)\n",
        "# predicted = predict_letter(net50lite, image)"
      ],
      "metadata": {
        "colab": {
          "base_uri": "https://localhost:8080/"
        },
        "id": "i67sJROCCgTp",
        "outputId": "bfbdc570-d6a6-45c5-ac7c-2c18e0dad406"
      },
      "execution_count": 16,
      "outputs": [
        {
          "output_type": "stream",
          "name": "stdout",
          "text": [
            "loading A_test.jpg of type: uint8\n"
          ]
        }
      ]
    }
  ],
  "metadata": {
    "language_info": {
      "name": "python"
    },
    "colab": {
      "provenance": [],
      "include_colab_link": true
    },
    "kernelspec": {
      "name": "python3",
      "display_name": "Python 3"
    }
  },
  "nbformat": 4,
  "nbformat_minor": 0
}