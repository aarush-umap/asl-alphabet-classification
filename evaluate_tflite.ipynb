{
  "cells": [
    {
      "cell_type": "markdown",
      "metadata": {
        "colab_type": "text",
        "id": "view-in-github"
      },
      "source": [
        "<a href=\"https://colab.research.google.com/github/aarush-umap/asl-alphabet-classification/blob/master/evaluate_tflite.ipynb\" target=\"_parent\"><img src=\"https://colab.research.google.com/assets/colab-badge.svg\" alt=\"Open In Colab\"/></a>"
      ]
    },
    {
      "cell_type": "markdown",
      "metadata": {
        "id": "wB4bhB6-8c_V"
      },
      "source": [
        "# Evaluate tflite model\n",
        "This notebook serves as a pipeline to load and test a tflite model.\n",
        "\n",
        "Must be tested on a lighter architecture (e.g. raspberry pi)"
      ]
    },
    {
      "cell_type": "markdown",
      "metadata": {
        "id": "_m6PGaCG8Yx7"
      },
      "source": [
        "## Setup packages"
      ]
    },
    {
      "cell_type": "code",
      "execution_count": 1,
      "metadata": {
        "colab": {
          "base_uri": "https://localhost:8080/"
        },
        "id": "n-vQBViXG3E-",
        "outputId": "0034f40a-67c9-4aec-e628-8f204fc523dc"
      },
      "outputs": [
        {
          "name": "stdout",
          "output_type": "stream",
          "text": [
            "Collecting tflite-runtime\n",
            "  Downloading tflite_runtime-2.14.0-cp310-cp310-manylinux2014_x86_64.whl (2.4 MB)\n",
            "\u001b[2K     \u001b[90m━━━━━━━━━━━━━━━━━━━━━━━━━━━━━━━━━━━━━━━━\u001b[0m \u001b[32m2.4/2.4 MB\u001b[0m \u001b[31m13.3 MB/s\u001b[0m eta \u001b[36m0:00:00\u001b[0m\n",
            "\u001b[?25hRequirement already satisfied: numpy>=1.23.2 in /usr/local/lib/python3.10/dist-packages (from tflite-runtime) (1.23.5)\n",
            "Installing collected packages: tflite-runtime\n",
            "Successfully installed tflite-runtime-2.14.0\n"
          ]
        }
      ],
      "source": [
        "!pip install tflite-runtime"
      ]
    },
    {
      "cell_type": "code",
      "execution_count": 2,
      "metadata": {
        "id": "i9zdLRneEdTz"
      },
      "outputs": [],
      "source": [
        "import tflite_runtime.interpreter as tflite\n",
        "import os\n",
        "import sys\n",
        "import cv2\n",
        "import numpy as np"
      ]
    },
    {
      "cell_type": "markdown",
      "metadata": {
        "id": "o14IvKug8zcA"
      },
      "source": [
        "## Connect to Google Drive"
      ]
    },
    {
      "cell_type": "code",
      "execution_count": 3,
      "metadata": {
        "colab": {
          "base_uri": "https://localhost:8080/"
        },
        "id": "7188Cb6G82wr",
        "outputId": "6507f38d-e8fd-4907-8170-887322975be3"
      },
      "outputs": [
        {
          "name": "stdout",
          "output_type": "stream",
          "text": [
            "Mounted at /content/drive\n"
          ]
        }
      ],
      "source": [
        "from google.colab import drive\n",
        "drive.mount('/content/drive')"
      ]
    },
    {
      "cell_type": "code",
      "execution_count": 4,
      "metadata": {
        "colab": {
          "base_uri": "https://localhost:8080/"
        },
        "id": "aP4a8yig9Ikx",
        "outputId": "f60230ef-c694-4496-b07f-2a2c459e3ec6"
      },
      "outputs": [
        {
          "name": "stdout",
          "output_type": "stream",
          "text": [
            "['resnet.py', '__pycache__', 'best_weights', 'model.tflite', 'best_weights_no_LR', 'asl_alphabet_test', 'best_weights_resized', 'classification_google.ipynb', 'model_with_lr.tflite', 'evaluate_tflite.ipynb']\n"
          ]
        }
      ],
      "source": [
        "GOOGLE_DRIVE_PATH_AFTER_MYDRIVE = 'asl-alphabet'\n",
        "GOOGLE_DRIVE_PATH = os.path.join('drive', 'My Drive', GOOGLE_DRIVE_PATH_AFTER_MYDRIVE)\n",
        "print(os.listdir(GOOGLE_DRIVE_PATH))\n",
        "sys.path.append(GOOGLE_DRIVE_PATH)\n",
        "TEST_DIR = os.path.join(GOOGLE_DRIVE_PATH, 'asl_alphabet_test', 'asl_alphabet_test')"
      ]
    },
    {
      "cell_type": "markdown",
      "metadata": {
        "id": "1jhcOCxG94km"
      },
      "source": [
        "## Setup variables and methods"
      ]
    },
    {
      "cell_type": "code",
      "execution_count": 5,
      "metadata": {
        "id": "6FVSV9Fe9YG_"
      },
      "outputs": [],
      "source": [
        "img_height = 200\n",
        "img_width = 200\n",
        "classes = ['A', 'B', 'C', 'D', 'E', 'F', 'G', 'H', 'I', 'J', 'K', 'L', 'M', 'N', 'O', 'P', 'Q', 'R', 'S', 'T', 'U', 'V', 'W', 'X', 'Y', 'Z', 'del', 'nothing', 'space']"
      ]
    },
    {
      "cell_type": "code",
      "execution_count": 16,
      "metadata": {
        "id": "KZp0xtN4_rp5"
      },
      "outputs": [],
      "source": [
        "def predict_letter(model, img):\n",
        "  print(f'calculating prediction')\n",
        "  img_array = np.expand_dims(img, 0)\n",
        "\n",
        "  input = model.get_input_details()[0]\n",
        "  output = model.get_output_details()[0]\n",
        "  img_typed = img_array.astype(input[\"dtype\"])\n",
        "  try:\n",
        "    model.set_tensor(input['index'], img_typed)\n",
        "  except:\n",
        "    print(f'model input should be: {input[\"dtype\"]} but was {img_typed.dtype}')\n",
        "    return None\n",
        "\n",
        "  model.invoke()\n",
        "\n",
        "  prediction = model.get_tensor(output['index'])\n",
        "  predicted_class = classes[np.argmax(prediction)]\n",
        "  return predicted_class"
      ]
    },
    {
      "cell_type": "code",
      "execution_count": 17,
      "metadata": {
        "id": "gY7r7igfF1j7"
      },
      "outputs": [],
      "source": [
        "def load_image(letter):\n",
        "  path = TEST_DIR + f\"/{letter}_test.jpg\"\n",
        "  img = cv2.imread(path)\n",
        "  img = cv2.resize(img, (img_height, img_width))\n",
        "  print(f'loaded {letter}_test.jpg of type: {img.dtype}')\n",
        "  return img\n"
      ]
    },
    {
      "cell_type": "code",
      "execution_count": 18,
      "metadata": {
        "id": "tPfJp-_1J_Cj"
      },
      "outputs": [],
      "source": [
        "def load_lite(path):\n",
        "  print(f'Loading tflite model from {path}')\n",
        "  model = tflite.Interpreter(path)\n",
        "  model.allocate_tensors()\n",
        "  return model\n"
      ]
    },
    {
      "cell_type": "code",
      "execution_count": 19,
      "metadata": {
        "colab": {
          "base_uri": "https://localhost:8080/"
        },
        "id": "i67sJROCCgTp",
        "outputId": "6ea9d224-a30e-428c-b328-b94c754a743f"
      },
      "outputs": [
        {
          "name": "stdout",
          "output_type": "stream",
          "text": [
            "Loading tflite model from drive/My Drive/asl-alphabet/model_with_lr.tflite\n",
            "loaded A_test.jpg of type: uint8\n",
            "calculating prediction\n",
            "Model predicted: A, expecting A\n"
          ]
        }
      ],
      "source": [
        "letter = 'A'\n",
        "path_to_model = os.path.join(GOOGLE_DRIVE_PATH, 'model_with_lr.tflite')\n",
        "net50lite = load_lite(path_to_model)\n",
        "image = load_image(letter)\n",
        "predicted = predict_letter(net50lite, image)\n",
        "\n",
        "print(f'Model predicted: {predicted}, expecting {letter}')"
      ]
    }
  ],
  "metadata": {
    "colab": {
      "include_colab_link": true,
      "provenance": []
    },
    "kernelspec": {
      "display_name": "Python 3",
      "name": "python3"
    },
    "language_info": {
      "name": "python"
    }
  },
  "nbformat": 4,
  "nbformat_minor": 0
}
