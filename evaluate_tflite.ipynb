{
  "cells": [
    {
      "cell_type": "markdown",
      "metadata": {
        "id": "view-in-github",
        "colab_type": "text"
      },
      "source": [
        "<a href=\"https://colab.research.google.com/github/aarush-umap/asl-alphabet-classification/blob/master/evaluate_tflite.ipynb\" target=\"_parent\"><img src=\"https://colab.research.google.com/assets/colab-badge.svg\" alt=\"Open In Colab\"/></a>"
      ]
    },
    {
      "cell_type": "markdown",
      "source": [
        "#Evaluate tflite model\n",
        "This notebook serves as a pipeline to load and test a tflite model.\n",
        "\n",
        "Must be tested on a lighter architecture (e.g. raspberry pi)"
      ],
      "metadata": {
        "id": "wB4bhB6-8c_V"
      }
    },
    {
      "cell_type": "markdown",
      "source": [
        "##Setup packages"
      ],
      "metadata": {
        "id": "_m6PGaCG8Yx7"
      }
    },
    {
      "cell_type": "code",
      "source": [
        "!pip install tflite-runtime"
      ],
      "metadata": {
        "id": "n-vQBViXG3E-",
        "colab": {
          "base_uri": "https://localhost:8080/"
        },
        "outputId": "e1719622-192a-491f-dcb4-5b5554438d2b"
      },
      "execution_count": 1,
      "outputs": [
        {
          "output_type": "stream",
          "name": "stdout",
          "text": [
            "Collecting tflite-runtime\n",
            "  Downloading tflite_runtime-2.14.0-cp310-cp310-manylinux2014_x86_64.whl (2.4 MB)\n",
            "\u001b[2K     \u001b[90m━━━━━━━━━━━━━━━━━━━━━━━━━━━━━━━━━━━━━━━━\u001b[0m \u001b[32m2.4/2.4 MB\u001b[0m \u001b[31m22.2 MB/s\u001b[0m eta \u001b[36m0:00:00\u001b[0m\n",
            "\u001b[?25hRequirement already satisfied: numpy>=1.23.2 in /usr/local/lib/python3.10/dist-packages (from tflite-runtime) (1.23.5)\n",
            "Installing collected packages: tflite-runtime\n",
            "Successfully installed tflite-runtime-2.14.0\n"
          ]
        }
      ]
    },
    {
      "cell_type": "code",
      "execution_count": 2,
      "metadata": {
        "id": "i9zdLRneEdTz"
      },
      "outputs": [],
      "source": [
        "import tflite_runtime as tflite\n",
        "import os\n",
        "import sys\n",
        "import cv2\n",
        "import numpy as np"
      ]
    },
    {
      "cell_type": "markdown",
      "source": [
        "##Connect to Google Drive"
      ],
      "metadata": {
        "id": "o14IvKug8zcA"
      }
    },
    {
      "cell_type": "code",
      "source": [
        "from google.colab import drive\n",
        "drive.mount('/content/drive')"
      ],
      "metadata": {
        "id": "7188Cb6G82wr"
      },
      "execution_count": null,
      "outputs": []
    },
    {
      "cell_type": "code",
      "source": [
        "GOOGLE_DRIVE_PATH_AFTER_MYDRIVE = 'asl-alphabet'\n",
        "GOOGLE_DRIVE_PATH = os.path.join('drive', 'My Drive', GOOGLE_DRIVE_PATH_AFTER_MYDRIVE)\n",
        "print(os.listdir(GOOGLE_DRIVE_PATH))\n",
        "sys.path.append(GOOGLE_DRIVE_PATH)\n",
        "TEST_DIR = os.path.join(\"/content/dataset/\", 'asl_alphabet_test', 'asl_alphabet_test')"
      ],
      "metadata": {
        "id": "aP4a8yig9Ikx"
      },
      "execution_count": null,
      "outputs": []
    },
    {
      "cell_type": "markdown",
      "source": [
        "##Setup variables"
      ],
      "metadata": {
        "id": "1jhcOCxG94km"
      }
    },
    {
      "cell_type": "code",
      "source": [
        "img_height = 200\n",
        "img_width = 200\n",
        "classes = ['A', 'B', 'C', 'D', 'E', 'F', 'G', 'H', 'I', 'J', 'K', 'L', 'M', 'N', 'O', 'P', 'Q', 'R', 'S', 'T', 'U', 'V', 'W', 'X', 'Y', 'Z', 'del', 'nothing', 'space']"
      ],
      "metadata": {
        "id": "6FVSV9Fe9YG_"
      },
      "execution_count": null,
      "outputs": []
    },
    {
      "cell_type": "code",
      "source": [
        "# def predict_letter(model, img):\n",
        "#   img = tf.keras.utils.load_img(\n",
        "#     path, target_size=(img_height, img_width)\n",
        "#   )\n",
        "#   img_array = tf.keras.utils.img_to_array(img)\n",
        "#   img_array = tf.expand_dims(img_array, 0)\n",
        "#   prediction = model(img_array)\n",
        "#   predicted_class = classes[np.argmax(prediction)]"
      ],
      "metadata": {
        "id": "KZp0xtN4_rp5"
      },
      "execution_count": null,
      "outputs": []
    },
    {
      "cell_type": "code",
      "source": [
        "# image = load_image(path_to_img)\n",
        "# predicted = predict_letter(net50, image)"
      ],
      "metadata": {
        "id": "i67sJROCCgTp"
      },
      "execution_count": null,
      "outputs": []
    }
  ],
  "metadata": {
    "language_info": {
      "name": "python"
    },
    "colab": {
      "provenance": [],
      "include_colab_link": true
    },
    "kernelspec": {
      "name": "python3",
      "display_name": "Python 3"
    }
  },
  "nbformat": 4,
  "nbformat_minor": 0
}